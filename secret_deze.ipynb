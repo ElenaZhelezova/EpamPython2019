{
 "cells": [
  {
   "cell_type": "markdown",
   "metadata": {},
   "source": [
    "## Примените всевозможные операции к данным множествам, выделяя различные подмножества\n",
    "накинем 2 балла\n",
    "\n",
    "<img src=\"images/set_food.png\" width=\"700\" height=\"700\">"
   ]
  },
  {
   "cell_type": "code",
   "execution_count": 1,
   "metadata": {},
   "outputs": [],
   "source": [
    "pizza = {\"dough\", \"tomatoes\", \"pepperoni\", \"ground pepper\", \"sweet basil\",\n",
    "         \"a lot of cheeeese\", \"onion\", \"garlic\", \"salt\", \"oregano\"}\n",
    "shaverma = {\"lavash\", \"cucumbers\", \"tomatoes\", \"sauce\", \"fried chicken\", \"onion\", \"cabbage\"}"
   ]
  },
  {
   "cell_type": "code",
   "execution_count": 5,
   "metadata": {},
   "outputs": [
    {
     "data": {
      "text/plain": [
       "10"
      ]
     },
     "execution_count": 5,
     "metadata": {},
     "output_type": "execute_result"
    }
   ],
   "source": [
    "len(pizza)"
   ]
  },
  {
   "cell_type": "code",
   "execution_count": 6,
   "metadata": {},
   "outputs": [
    {
     "data": {
      "text/plain": [
       "7"
      ]
     },
     "execution_count": 6,
     "metadata": {},
     "output_type": "execute_result"
    }
   ],
   "source": [
    "len(shaverma)"
   ]
  },
  {
   "cell_type": "code",
   "execution_count": 7,
   "metadata": {},
   "outputs": [
    {
     "data": {
      "text/plain": [
       "False"
      ]
     },
     "execution_count": 7,
     "metadata": {},
     "output_type": "execute_result"
    }
   ],
   "source": [
    "pizza in shaverma"
   ]
  },
  {
   "cell_type": "code",
   "execution_count": 8,
   "metadata": {},
   "outputs": [
    {
     "data": {
      "text/plain": [
       "True"
      ]
     },
     "execution_count": 8,
     "metadata": {},
     "output_type": "execute_result"
    }
   ],
   "source": [
    "shaverma not in pizza"
   ]
  },
  {
   "cell_type": "code",
   "execution_count": 9,
   "metadata": {},
   "outputs": [
    {
     "data": {
      "text/plain": [
       "False"
      ]
     },
     "execution_count": 9,
     "metadata": {},
     "output_type": "execute_result"
    }
   ],
   "source": [
    "pizza.isdisjoint(shaverma)"
   ]
  },
  {
   "cell_type": "code",
   "execution_count": 10,
   "metadata": {},
   "outputs": [
    {
     "data": {
      "text/plain": [
       "False"
      ]
     },
     "execution_count": 10,
     "metadata": {},
     "output_type": "execute_result"
    }
   ],
   "source": [
    "pizza.issubset(shaverma)"
   ]
  },
  {
   "cell_type": "code",
   "execution_count": 11,
   "metadata": {},
   "outputs": [
    {
     "data": {
      "text/plain": [
       "False"
      ]
     },
     "execution_count": 11,
     "metadata": {},
     "output_type": "execute_result"
    }
   ],
   "source": [
    "pizza.issuperset(shaverma)"
   ]
  },
  {
   "cell_type": "code",
   "execution_count": 12,
   "metadata": {},
   "outputs": [
    {
     "data": {
      "text/plain": [
       "{'a lot of cheeeese',\n",
       " 'cabbage',\n",
       " 'cucumbers',\n",
       " 'dough',\n",
       " 'fried chicken',\n",
       " 'garlic',\n",
       " 'ground pepper',\n",
       " 'lavash',\n",
       " 'onion',\n",
       " 'oregano',\n",
       " 'pepperoni',\n",
       " 'salt',\n",
       " 'sauce',\n",
       " 'sweet basil',\n",
       " 'tomatoes'}"
      ]
     },
     "execution_count": 12,
     "metadata": {},
     "output_type": "execute_result"
    }
   ],
   "source": [
    "pizza.union(shaverma)"
   ]
  },
  {
   "cell_type": "code",
   "execution_count": 13,
   "metadata": {},
   "outputs": [
    {
     "data": {
      "text/plain": [
       "{'onion', 'tomatoes'}"
      ]
     },
     "execution_count": 13,
     "metadata": {},
     "output_type": "execute_result"
    }
   ],
   "source": [
    "pizza.intersection(shaverma)"
   ]
  },
  {
   "cell_type": "code",
   "execution_count": 14,
   "metadata": {},
   "outputs": [
    {
     "data": {
      "text/plain": [
       "{'a lot of cheeeese',\n",
       " 'dough',\n",
       " 'garlic',\n",
       " 'ground pepper',\n",
       " 'oregano',\n",
       " 'pepperoni',\n",
       " 'salt',\n",
       " 'sweet basil'}"
      ]
     },
     "execution_count": 14,
     "metadata": {},
     "output_type": "execute_result"
    }
   ],
   "source": [
    "pizza.difference(shaverma)"
   ]
  },
  {
   "cell_type": "code",
   "execution_count": 16,
   "metadata": {},
   "outputs": [
    {
     "data": {
      "text/plain": [
       "{'a lot of cheeeese',\n",
       " 'cabbage',\n",
       " 'cucumbers',\n",
       " 'dough',\n",
       " 'fried chicken',\n",
       " 'garlic',\n",
       " 'ground pepper',\n",
       " 'lavash',\n",
       " 'oregano',\n",
       " 'pepperoni',\n",
       " 'salt',\n",
       " 'sauce',\n",
       " 'sweet basil'}"
      ]
     },
     "execution_count": 16,
     "metadata": {},
     "output_type": "execute_result"
    }
   ],
   "source": [
    "pizza.symmetric_difference(shaverma)"
   ]
  },
  {
   "cell_type": "code",
   "execution_count": 4,
   "metadata": {},
   "outputs": [
    {
     "data": {
      "text/plain": [
       "{'a lot of cheeeese',\n",
       " 'dough',\n",
       " 'garlic',\n",
       " 'ground pepper',\n",
       " 'oregano',\n",
       " 'pepperoni',\n",
       " 'salt',\n",
       " 'sweet basil'}"
      ]
     },
     "execution_count": 4,
     "metadata": {},
     "output_type": "execute_result"
    }
   ],
   "source": [
    "pizza - shaverma"
   ]
  },
  {
   "cell_type": "code",
   "execution_count": 7,
   "metadata": {},
   "outputs": [
    {
     "data": {
      "text/plain": [
       "{'cabbage', 'cucumbers', 'fried chicken', 'lavash', 'sauce'}"
      ]
     },
     "execution_count": 7,
     "metadata": {},
     "output_type": "execute_result"
    }
   ],
   "source": [
    "shaverma - pizza"
   ]
  },
  {
   "cell_type": "code",
   "execution_count": null,
   "metadata": {},
   "outputs": [],
   "source": []
  }
 ],
 "metadata": {
  "kernelspec": {
   "display_name": "Python 3",
   "language": "python",
   "name": "python3"
  },
  "language_info": {
   "codemirror_mode": {
    "name": "ipython",
    "version": 3
   },
   "file_extension": ".py",
   "mimetype": "text/x-python",
   "name": "python",
   "nbconvert_exporter": "python",
   "pygments_lexer": "ipython3",
   "version": "3.6.7"
  }
 },
 "nbformat": 4,
 "nbformat_minor": 2
}
